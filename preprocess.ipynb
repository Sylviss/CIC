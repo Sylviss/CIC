{
 "cells": [
  {
   "cell_type": "code",
   "execution_count": 2,
   "metadata": {},
   "outputs": [],
   "source": [
    "import pandas as pd\n",
    "import numpy as np\n",
    "import pickle\n",
    "from tools import *"
   ]
  },
  {
   "cell_type": "code",
   "execution_count": 3,
   "metadata": {},
   "outputs": [],
   "source": [
    "a = None"
   ]
  },
  {
   "cell_type": "code",
   "execution_count": 4,
   "metadata": {},
   "outputs": [
    {
     "name": "stdout",
     "output_type": "stream",
     "text": [
      "datasets/cic-bot-iot/Valid.parquet\n",
      "datasets/cic-ids-collection/Valid.parquet\n",
      "datasets/cic-ton-iot/Valid.parquet\n",
      "datasets/cupid-2022/Valid.parquet\n",
      "datasets/ddos-dataset/Valid.parquet\n",
      "datasets/tii-ssrc-23/Valid.parquet\n",
      "datasets/usb-ids-1/Valid.parquet\n"
     ]
    }
   ],
   "source": [
    "data = [\"cic-bot-iot\",\"cic-ids-collection\",\"cic-ton-iot\",\"cupid-2022\",\"ddos-dataset\",\"tii-ssrc-23\",\"usb-ids-1\"]\n",
    "for name in data:\n",
    "    df_name = f\"datasets/{name}/Valid.parquet\"\n",
    "    print(df_name)\n",
    "    if a is None:\n",
    "        a = pd.read_parquet(df_name)\n",
    "        columns = a.columns \n",
    "    else:\n",
    "        hehe = pd.read_parquet(df_name)\n",
    "        hehe = hehe[~hehe.isin([np.inf, -np.inf]).any(axis=1)]\n",
    "        hehe = hehe.dropna()\n",
    "        hehe.columns = columns\n",
    "        a = pd.concat([a,hehe])"
   ]
  },
  {
   "cell_type": "code",
   "execution_count": 5,
   "metadata": {},
   "outputs": [
    {
     "data": {
      "text/plain": [
       "Label\n",
       "1    2715695\n",
       "0    1718110\n",
       "Name: count, dtype: int64"
      ]
     },
     "execution_count": 5,
     "metadata": {},
     "output_type": "execute_result"
    }
   ],
   "source": [
    "a[\"Label\"].value_counts()"
   ]
  },
  {
   "cell_type": "code",
   "execution_count": 6,
   "metadata": {},
   "outputs": [],
   "source": [
    "a = a.groupby(\"Label\").apply(lambda x: x.sample(1700000)).reset_index(drop=True)"
   ]
  },
  {
   "cell_type": "code",
   "execution_count": 7,
   "metadata": {},
   "outputs": [],
   "source": [
    "a.to_parquet(\"datasets/final/Valid.parquet\")"
   ]
  }
 ],
 "metadata": {
  "kernelspec": {
   "display_name": "Python 3",
   "language": "python",
   "name": "python3"
  },
  "language_info": {
   "codemirror_mode": {
    "name": "ipython",
    "version": 3
   },
   "file_extension": ".py",
   "mimetype": "text/x-python",
   "name": "python",
   "nbconvert_exporter": "python",
   "pygments_lexer": "ipython3",
   "version": "3.11.3"
  }
 },
 "nbformat": 4,
 "nbformat_minor": 2
}
