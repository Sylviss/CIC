{
 "cells": [
  {
   "cell_type": "code",
   "execution_count": 1,
   "metadata": {},
   "outputs": [],
   "source": [
    "import pandas as pd\n",
    "import numpy as np\n",
    "import pickle\n",
    "from tools import *"
   ]
  },
  {
   "cell_type": "code",
   "execution_count": 2,
   "metadata": {},
   "outputs": [],
   "source": [
    "import warnings\n",
    "warnings.filterwarnings(\"ignore\")"
   ]
  },
  {
   "cell_type": "code",
   "execution_count": 3,
   "metadata": {},
   "outputs": [],
   "source": [
    "with open(\"models/vt.pkl\",\"rb\") as f:\n",
    "    vt = pickle.load(f)\n",
    "with open(\"models/std.pkl\",\"rb\") as f:\n",
    "    std = pickle.load(f)\n",
    "with open(\"models/discretizer.pkl\",\"rb\") as f:\n",
    "    discretizer = pickle.load(f)"
   ]
  },
  {
   "cell_type": "code",
   "execution_count": 4,
   "metadata": {},
   "outputs": [],
   "source": [
    "model_names = [\"dt\", \"gnb\", \"lr\", \"mnb\", \"mygnb\", \"mymnb\", \"lgbm\"]\n",
    "model_type = [0,0,0,1,0,1,0]\n",
    "models = {}\n",
    "\n",
    "for model_name in model_names:\n",
    "    with open(f\"models/{model_name}.pkl\", \"rb\") as f:\n",
    "        models[model_name] = pickle.load(f)"
   ]
  },
  {
   "cell_type": "code",
   "execution_count": 5,
   "metadata": {},
   "outputs": [],
   "source": [
    "res = pd.DataFrame()\n",
    "for model in model_names:\n",
    "    res[model + \" acc\"]=None\n",
    "    res[model + \" auc\"]=None\n",
    "    res[model + \" f1\"]=None\n",
    "res['dataset']=None\n",
    "row=0"
   ]
  },
  {
   "cell_type": "code",
   "execution_count": null,
   "metadata": {},
   "outputs": [],
   "source": [
    "data = [\"cic-bot-iot\",\"cic-ids-collection\",\"cic-ton-iot\",\"cupid-2022\",\"ddos-dataset\",\"sdn-intrusion\",\"usb-ids-1\"]\n",
    "for name in data:\n",
    "    df_name = f\"datasets/{name}/Test.parquet\"\n",
    "    print(df_name)\n",
    "    res.loc[row, 'dataset'] = name\n",
    "    X_cont,y = prepare_data(df_name,vt,std)\n",
    "    X_disc,_ = prepare_data(df_name,vt,discretizer)\n",
    "    _,count = np.unique(y,return_counts = True)\n",
    "    print(X_cont.shape,y.shape,count)\n",
    "    for model_name,model in models.items():\n",
    "        if model_type[model_names.index(model_name)] == 0:\n",
    "            y_prob = model.predict_proba(X_cont)\n",
    "            y_score = y_prob[:,1]\n",
    "            y_pred = np.argmax(y_prob,axis=1)\n",
    "        else:\n",
    "            y_prob = model.predict_proba(X_disc)\n",
    "            y_score = y_prob[:,1]\n",
    "            y_pred = np.argmax(y_prob,axis=1)\n",
    "        name,acc,f1,auc = print_metrics(model_name,y,y_pred,y_score)\n",
    "        res.loc[row, model_name + \" acc\"] = acc\n",
    "        res.loc[row, model_name + \" auc\"] = auc\n",
    "        res.loc[row, model_name + \" f1\"] = f1\n",
    "    row+=1"
   ]
  },
  {
   "cell_type": "code",
   "execution_count": null,
   "metadata": {},
   "outputs": [],
   "source": [
    "data = [\"cic-bot-iot\",\"cic-ids-collection\",\"cic-ton-iot\",\"cupid-2022\",\"ddos-dataset\",\"sdn-intrusion\",\"usb-ids-1\"]\n",
    "for name in data:\n",
    "    df_name = f\"datasets/{name}/Test.parquet\"\n",
    "    print(df_name)\n",
    "    res.loc[row, 'dataset'] = name + \" balanced\"\n",
    "    X_cont,y = prepare_data_balanced(df_name,vt,std)\n",
    "    X_disc,_ = prepare_data_balanced(df_name,vt,discretizer)\n",
    "    print(X_cont.shape,y.shape)\n",
    "    for model_name,model in models.items():\n",
    "        if model_type[model_names.index(model_name)] == 0:\n",
    "            y_prob = model.predict_proba(X_cont)\n",
    "            y_score = y_prob[:,1]\n",
    "            y_pred = np.argmax(y_prob,axis=1)\n",
    "        else:\n",
    "            y_prob = model.predict_proba(X_disc)\n",
    "            y_score = y_prob[:,1]\n",
    "            y_pred = np.argmax(y_prob,axis=1)\n",
    "        name,acc,f1,auc = print_metrics(model_name,y,y_pred,y_score)\n",
    "        res.loc[row, model_name + \" acc\"] = acc\n",
    "        res.loc[row, model_name + \" auc\"] = auc\n",
    "        res.loc[row, model_name + \" f1\"] = f1\n",
    "    row+=1"
   ]
  },
  {
   "cell_type": "code",
   "execution_count": null,
   "metadata": {},
   "outputs": [],
   "source": [
    "res.to_excel(\"fig/res2.xlsx\")"
   ]
  }
 ],
 "metadata": {
  "kernelspec": {
   "display_name": "Python 3",
   "language": "python",
   "name": "python3"
  },
  "language_info": {
   "codemirror_mode": {
    "name": "ipython",
    "version": 3
   },
   "file_extension": ".py",
   "mimetype": "text/x-python",
   "name": "python",
   "nbconvert_exporter": "python",
   "pygments_lexer": "ipython3",
   "version": "3.11.3"
  }
 },
 "nbformat": 4,
 "nbformat_minor": 2
}
