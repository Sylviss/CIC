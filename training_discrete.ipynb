{
 "cells": [
  {
   "cell_type": "code",
   "execution_count": 1,
   "metadata": {},
   "outputs": [],
   "source": [
    "import pandas as pd\n",
    "import numpy as np\n",
    "from sklearn.naive_bayes import GaussianNB,MultinomialNB\n",
    "from sklearn.preprocessing import StandardScaler,KBinsDiscretizer\n",
    "from sklearn.feature_selection import VarianceThreshold\n",
    "from sklearn.model_selection import train_test_split\n",
    "from sklearn.tree import DecisionTreeClassifier\n",
    "from lightgbm import LGBMClassifier\n",
    "from sklearn.linear_model import LogisticRegression\n",
    "from sklearn.svm import SVC\n",
    "from sklearn.metrics import accuracy_score\n",
    "import pickle"
   ]
  },
  {
   "cell_type": "code",
   "execution_count": 2,
   "metadata": {},
   "outputs": [],
   "source": [
    "a = pd.read_parquet(\"./datasets/final/Train.parquet\")\n",
    "b = pd.read_parquet(\"./datasets/final/Valid.parquet\")"
   ]
  },
  {
   "cell_type": "code",
   "execution_count": 3,
   "metadata": {},
   "outputs": [],
   "source": [
    "X,y_train = a.drop(columns = [\"Label\"]),a.Label.to_numpy().astype(\"int32\")\n",
    "del a\n",
    "X_2,y_valid = b.drop(columns = [\"Label\"]),b.Label.to_numpy().astype(\"int32\")\n",
    "del b"
   ]
  },
  {
   "cell_type": "code",
   "execution_count": 4,
   "metadata": {},
   "outputs": [],
   "source": [
    "vt = VarianceThreshold(threshold=0)\n",
    "X = vt.fit_transform(X)\n",
    "X_2 = vt.transform(X_2)"
   ]
  },
  {
   "cell_type": "code",
   "execution_count": 5,
   "metadata": {},
   "outputs": [
    {
     "name": "stderr",
     "output_type": "stream",
     "text": [
      "c:\\Users\\tungv\\AppData\\Local\\Programs\\Python\\Python311\\Lib\\site-packages\\sklearn\\preprocessing\\_discretization.py:248: FutureWarning: In version 1.5 onwards, subsample=200_000 will be used by default. Set subsample explicitly to silence this warning in the mean time. Set subsample=None to disable subsampling explicitly.\n",
      "  warnings.warn(\n"
     ]
    }
   ],
   "source": [
    "discretizer = KBinsDiscretizer(n_bins=100, encode='ordinal', strategy='uniform')\n",
    "X_train = discretizer.fit_transform(X)\n",
    "X_valid = discretizer.transform(X_2)\n",
    "del X\n",
    "del X_2"
   ]
  },
  {
   "cell_type": "code",
   "execution_count": 6,
   "metadata": {},
   "outputs": [
    {
     "name": "stdout",
     "output_type": "stream",
     "text": [
      "(12000000, 57) (12000000,) (3400000, 57) (3400000,)\n"
     ]
    }
   ],
   "source": [
    "print(X_train.shape,y_train.shape,X_valid.shape,y_valid.shape)"
   ]
  },
  {
   "cell_type": "code",
   "execution_count": 7,
   "metadata": {},
   "outputs": [],
   "source": [
    "from NaiveBayes import MultinomialNB as MyNB\n",
    "nb = MultinomialNB(alpha=1)\n",
    "nb2 = MyNB(alpha=1)"
   ]
  },
  {
   "cell_type": "code",
   "execution_count": 8,
   "metadata": {},
   "outputs": [],
   "source": [
    "nb.fit(X_train,y_train)\n",
    "nb2.fit(X_train,y_train)"
   ]
  },
  {
   "cell_type": "code",
   "execution_count": 9,
   "metadata": {},
   "outputs": [
    {
     "name": "stdout",
     "output_type": "stream",
     "text": [
      "0.5608376470588236\n",
      "0.7965929411764706\n"
     ]
    }
   ],
   "source": [
    "print(accuracy_score(y_valid,nb.predict(X_valid)))\n",
    "print(accuracy_score(y_valid,nb2.predict(X_valid)))"
   ]
  },
  {
   "cell_type": "code",
   "execution_count": 10,
   "metadata": {},
   "outputs": [],
   "source": [
    "with open(\"models/mnb.pkl\",\"wb\") as f:\n",
    "    pickle.dump(nb,f)\n",
    "with open(\"models/mymnb.pkl\",\"wb\") as f:\n",
    "    pickle.dump(nb2,f)"
   ]
  },
  {
   "cell_type": "code",
   "execution_count": 11,
   "metadata": {},
   "outputs": [],
   "source": [
    "with open(\"models/vt.pkl\",\"wb\") as f:\n",
    "    pickle.dump(vt,f)\n",
    "with open(\"models/discretizer.pkl\",\"wb\") as f:\n",
    "    pickle.dump(discretizer,f)"
   ]
  }
 ],
 "metadata": {
  "kernelspec": {
   "display_name": "Python 3",
   "language": "python",
   "name": "python3"
  },
  "language_info": {
   "codemirror_mode": {
    "name": "ipython",
    "version": 3
   },
   "file_extension": ".py",
   "mimetype": "text/x-python",
   "name": "python",
   "nbconvert_exporter": "python",
   "pygments_lexer": "ipython3",
   "version": "3.11.3"
  }
 },
 "nbformat": 4,
 "nbformat_minor": 2
}
